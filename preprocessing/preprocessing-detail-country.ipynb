{
 "cells": [
  {
   "cell_type": "code",
   "id": "initial_id",
   "metadata": {
    "collapsed": true,
    "ExecuteTime": {
     "end_time": "2025-01-01T16:55:50.241841Z",
     "start_time": "2025-01-01T16:55:50.239029Z"
    }
   },
   "source": "import pandas as pd",
   "outputs": [],
   "execution_count": 11
  },
  {
   "metadata": {
    "ExecuteTime": {
     "end_time": "2025-01-01T16:55:58.005991Z",
     "start_time": "2025-01-01T16:55:57.968677Z"
    }
   },
   "cell_type": "code",
   "source": [
    "df_country_extended = pd.read_csv('./../data/countries_extended.csv')\n",
    "df_weather = pd.read_parquet('./../data/weather_compressed_new.parquet')\n",
    "df_aggregated_average_precipitation = pd.read_csv('./../data/country_overall/average_precipitation_per_day_global.csv')\n",
    "df_aggregated_average_temp = pd.read_csv('./../data/country_overall/average_temp_per_day_global.csv')\n"
   ],
   "id": "17ee337fd2e84114",
   "outputs": [],
   "execution_count": 13
  },
  {
   "metadata": {
    "ExecuteTime": {
     "end_time": "2025-01-01T17:38:46.275005Z",
     "start_time": "2025-01-01T17:38:42.214789Z"
    }
   },
   "cell_type": "code",
   "source": [
    "for row in df_country_extended[['country', 'continent']].itertuples(index=False):\n",
    "    country, continent = row\n",
    "    df_intermediate = df_weather[df_weather['country'] == country][['date', 'avg_temp_c', 'min_temp_c', 'max_temp_c', 'precipitation_mm']]\n",
    "    df_intermediate['avg_temp_c'] = df_intermediate['avg_temp_c'].interpolate(method='linear')\n",
    "    df_intermediate['min_temp_c'] = df_intermediate['min_temp_c'].interpolate(method='linear')\n",
    "    df_intermediate['max_temp_c'] = df_intermediate['max_temp_c'].interpolate(method='linear')\n",
    "    df_intermediate['precipitation_mm'] = df_intermediate['precipitation_mm'].interpolate(method='linear')\n",
    "\n",
    "\n",
    "    precipitation = df_aggregated_average_precipitation[df_aggregated_average_precipitation['continent'] == continent][['precipitation_mm', 'date']]\n",
    "    avg_temp_c = df_aggregated_average_temp[df_aggregated_average_temp['continent'] == continent][['avg_temp_c', 'date']]\n",
    "    df_intermediate = df_intermediate.merge(avg_temp_c, on='date')\n",
    "    df_intermediate = df_intermediate.merge(precipitation, on='date')\n",
    "\n",
    "    df_intermediate.rename(columns={'precipitation_mm_x': 'precipitation_mm', 'avg_temp_c_y': 'avg_temp_c_continent', 'precipitation_mm_y': 'precipitation_mm_continent', 'avg_temp_c_x': 'avg_temp_c'}, inplace=True)\n",
    "\n",
    "\n",
    "    global_map_compitable_name = df_country_extended.loc[df_country_extended['country'] == country][['NAME']].values[0][0]\n",
    "\n",
    "    df_intermediate.to_csv('./../data/country_detail/' + global_map_compitable_name + '.csv', index=False)"
   ],
   "id": "599671ceb8669dfe",
   "outputs": [],
   "execution_count": 34
  },
  {
   "metadata": {},
   "cell_type": "code",
   "outputs": [],
   "execution_count": null,
   "source": "",
   "id": "52e44ae000d09f8f"
  }
 ],
 "metadata": {
  "kernelspec": {
   "display_name": "Python 3",
   "language": "python",
   "name": "python3"
  },
  "language_info": {
   "codemirror_mode": {
    "name": "ipython",
    "version": 2
   },
   "file_extension": ".py",
   "mimetype": "text/x-python",
   "name": "python",
   "nbconvert_exporter": "python",
   "pygments_lexer": "ipython2",
   "version": "2.7.6"
  }
 },
 "nbformat": 4,
 "nbformat_minor": 5
}
