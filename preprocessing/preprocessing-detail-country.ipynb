{
 "cells": [
  {
   "cell_type": "code",
   "id": "initial_id",
   "metadata": {
    "collapsed": true,
    "ExecuteTime": {
     "end_time": "2024-12-27T22:17:20.226686Z",
     "start_time": "2024-12-27T22:17:20.222858Z"
    }
   },
   "source": "import pandas as pd",
   "outputs": [],
   "execution_count": 5
  },
  {
   "metadata": {
    "ExecuteTime": {
     "end_time": "2024-12-27T22:17:20.629257Z",
     "start_time": "2024-12-27T22:17:20.599547Z"
    }
   },
   "cell_type": "code",
   "source": [
    "df_country_extended = pd.read_csv('./../data/countries_extended.csv')\n",
    "df_weather = pd.read_parquet('./../data/weather_compressed_new.parquet')"
   ],
   "id": "de86ed8ae1d7aac7",
   "outputs": [],
   "execution_count": 6
  },
  {
   "metadata": {
    "ExecuteTime": {
     "end_time": "2024-12-27T22:17:23.740587Z",
     "start_time": "2024-12-27T22:17:20.936798Z"
    }
   },
   "cell_type": "code",
   "source": [
    "for country in df_country_extended['country']:\n",
    "    df_intermediate = df_weather[df_weather['country'] == country][['date', 'avg_temp_c', 'min_temp_c', 'max_temp_c', 'precipitation_mm']]\n",
    "    df_intermediate['avg_temp_c'] = df_intermediate['avg_temp_c'].interpolate(method='linear')\n",
    "    df_intermediate['min_temp_c'] = df_intermediate['min_temp_c'].interpolate(method='linear')\n",
    "    df_intermediate['max_temp_c'] = df_intermediate['max_temp_c'].interpolate(method='linear')\n",
    "    df_intermediate['precipitation_mm'] = df_intermediate['precipitation_mm'].interpolate(method='linear')\n",
    "    global_map_compitable_name = df_country_extended.loc[df_country_extended['country'] == country][['NAME']].values[0][0]\n",
    "    df_intermediate.to_csv('./../data/country_detail/' + global_map_compitable_name + '.csv', index=False)"
   ],
   "id": "a1d7e8033ff205bd",
   "outputs": [],
   "execution_count": 7
  },
  {
   "metadata": {},
   "cell_type": "code",
   "outputs": [],
   "execution_count": null,
   "source": "",
   "id": "837baa25e8b9eec1"
  }
 ],
 "metadata": {
  "kernelspec": {
   "display_name": "Python 3",
   "language": "python",
   "name": "python3"
  },
  "language_info": {
   "codemirror_mode": {
    "name": "ipython",
    "version": 2
   },
   "file_extension": ".py",
   "mimetype": "text/x-python",
   "name": "python",
   "nbconvert_exporter": "python",
   "pygments_lexer": "ipython2",
   "version": "2.7.6"
  }
 },
 "nbformat": 4,
 "nbformat_minor": 5
}
