{
 "cells": [
  {
   "metadata": {
    "ExecuteTime": {
     "end_time": "2024-12-16T11:47:41.288089Z",
     "start_time": "2024-12-16T11:47:41.281717Z"
    }
   },
   "cell_type": "code",
   "source": "import pandas as pd",
   "id": "e19acb552144c9d6",
   "outputs": [],
   "execution_count": 7
  },
  {
   "metadata": {
    "collapsed": true,
    "ExecuteTime": {
     "end_time": "2024-12-16T11:47:43.588898Z",
     "start_time": "2024-12-16T11:47:41.820530Z"
    }
   },
   "cell_type": "code",
   "source": [
    "# dates.csv\n",
    "df_weather = pd.read_parquet('./../data/daily_weather.parquet')\n",
    "dates = df_weather['date'].sort_values().unique()\n",
    "upper_bound = dates[-1]\n",
    "lower_bound = pd.to_datetime('1960-01-01')\n",
    "time_series = pd.date_range(start=lower_bound, end=upper_bound, freq='14D')\n",
    "df_dates = pd.DataFrame({'date': time_series})\n",
    "df_dates.to_csv('./../data/dates.csv', index=False)"
   ],
   "id": "initial_id",
   "outputs": [],
   "execution_count": 8
  },
  {
   "metadata": {},
   "cell_type": "code",
   "outputs": [],
   "execution_count": null,
   "source": "",
   "id": "82f61770ef2418ff"
  }
 ],
 "metadata": {
  "kernelspec": {
   "display_name": "Python 3",
   "language": "python",
   "name": "python3"
  },
  "language_info": {
   "codemirror_mode": {
    "name": "ipython",
    "version": 2
   },
   "file_extension": ".py",
   "mimetype": "text/x-python",
   "name": "python",
   "nbconvert_exporter": "python",
   "pygments_lexer": "ipython2",
   "version": "2.7.6"
  }
 },
 "nbformat": 4,
 "nbformat_minor": 5
}
