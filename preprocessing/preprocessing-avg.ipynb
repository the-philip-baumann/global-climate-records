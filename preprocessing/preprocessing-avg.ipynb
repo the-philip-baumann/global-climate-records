{
 "cells": [
  {
   "cell_type": "code",
   "execution_count": null,
   "id": "initial_id",
   "metadata": {
    "collapsed": true
   },
   "outputs": [],
   "source": "import pandas as pd"
  },
  {
   "metadata": {},
   "cell_type": "code",
   "outputs": [],
   "execution_count": null,
   "source": [
    "df_extended = pd.read_parquet('./data/weather_compressed.parquet')\n",
    "df_countries_extended = pd.read_csv('./data/countries_extended.csv')[['country', 'continent']]\n",
    "df_countries_weather_extended = pd.merge(df_countries_extended, df_extended, on='country')\n",
    "\n",
    "dates = df_countries_weather_extended['date'].unique()\n",
    "continents = df_countries_weather_extended['continent'].dropna().unique()\n",
    "\n",
    "avg_temp_per_day_global = pd.DataFrame(columns=['date', 'continent', 'avg_temp_c'])\n",
    "for continent in continents:\n",
    "    for date in dates:\n",
    "        print(f'continent: {continent}, date: {date}')\n",
    "        avg_temp_per_day_global.loc[len(avg_temp_per_day_global)] = \\\n",
    "            [date, continent, df_countries_weather_extended[(df_countries_weather_extended['date'] == str(date)) & (df_countries_weather_extended['continent'] == continent)]['avg_temp_c'].mean()]\n",
    "\n",
    "for date in dates:\n",
    "    avg_temp_per_day_global.loc[len(avg_temp_per_day_global)] = [date, 'all', df_countries_weather_extended[df_countries_weather_extended['date'] == str(date)]['avg_temp_c'].mean()]\n",
    "\n",
    "avg_temp_per_day_global.to_csv('./data/country_overall/average_temp_per_day_global.csv', index=False)"
   ],
   "id": "4b9d4334201771d0"
  },
  {
   "metadata": {},
   "cell_type": "code",
   "outputs": [],
   "execution_count": null,
   "source": [
    "df_extended = pd.read_parquet('./data/weather_compressed.parquet')\n",
    "df_countries_extended = pd.read_csv('./data/countries_extended.csv')[['country', 'continent']]\n",
    "df_countries_weather_extended = pd.merge(df_countries_extended, df_extended, on='country')\n",
    "\n",
    "dates = df_countries_weather_extended['date'].unique()\n",
    "continents = df_countries_weather_extended['continent'].dropna().unique()\n",
    "\n",
    "avg_temp_per_day_global = pd.DataFrame(columns=['date', 'continent', 'precipitation_mm'])\n",
    "for continent in continents:\n",
    "    for date in dates:\n",
    "        print(f'continent: {continent}, date: {date}')\n",
    "        avg_temp_per_day_global.loc[len(avg_temp_per_day_global)] = \\\n",
    "            [date, continent, df_countries_weather_extended[(df_countries_weather_extended['date'] == str(date)) & (df_countries_weather_extended['continent'] == continent)]['precipitation_mm'].mean()]\n",
    "\n",
    "for date in dates:\n",
    "    avg_temp_per_day_global.loc[len(avg_temp_per_day_global)] = [date, 'all', df_countries_weather_extended[df_countries_weather_extended['date'] == str(date)]['precipitation_mm'].mean()]\n",
    "\n",
    "avg_temp_per_day_global.to_csv('./data/country_overall/average_precipitation_per_day_global.csv', index=False)"
   ],
   "id": "94c7842b2e4324e2"
  }
 ],
 "metadata": {
  "kernelspec": {
   "display_name": "Python 3",
   "language": "python",
   "name": "python3"
  },
  "language_info": {
   "codemirror_mode": {
    "name": "ipython",
    "version": 2
   },
   "file_extension": ".py",
   "mimetype": "text/x-python",
   "name": "python",
   "nbconvert_exporter": "python",
   "pygments_lexer": "ipython2",
   "version": "2.7.6"
  }
 },
 "nbformat": 4,
 "nbformat_minor": 5
}
