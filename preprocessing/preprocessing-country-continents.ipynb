{
 "cells": [
  {
   "cell_type": "code",
   "id": "initial_id",
   "metadata": {
    "collapsed": true,
    "ExecuteTime": {
     "end_time": "2024-12-15T19:45:25.843868Z",
     "start_time": "2024-12-15T19:45:25.840340Z"
    }
   },
   "source": [
    "import pandas as pd\n",
    "import warnings\n",
    "warnings.filterwarnings('ignore', category=UserWarning)"
   ],
   "outputs": [],
   "execution_count": 3
  },
  {
   "metadata": {
    "ExecuteTime": {
     "end_time": "2024-12-15T19:45:49.520323Z",
     "start_time": "2024-12-15T19:45:49.512547Z"
    }
   },
   "cell_type": "code",
   "source": "df_countries = pd.read_csv('./../data/countries.csv')",
   "id": "ee0aa2c59881a5b4",
   "outputs": [],
   "execution_count": 5
  },
  {
   "metadata": {},
   "cell_type": "code",
   "outputs": [],
   "execution_count": null,
   "source": [
    "countries = df_countries['country'].unique()\n",
    "df_continent_countries = df_countries[df_countries['country'].isin(countries)][['continent', 'country']]\n",
    "df_continent_countries"
   ],
   "id": "9487678868aef118"
  },
  {
   "metadata": {},
   "cell_type": "code",
   "outputs": [],
   "execution_count": null,
   "source": "",
   "id": "1731f2d37a05c370"
  }
 ],
 "metadata": {
  "kernelspec": {
   "display_name": "Python 3",
   "language": "python",
   "name": "python3"
  },
  "language_info": {
   "codemirror_mode": {
    "name": "ipython",
    "version": 2
   },
   "file_extension": ".py",
   "mimetype": "text/x-python",
   "name": "python",
   "nbconvert_exporter": "python",
   "pygments_lexer": "ipython2",
   "version": "2.7.6"
  }
 },
 "nbformat": 4,
 "nbformat_minor": 5
}
