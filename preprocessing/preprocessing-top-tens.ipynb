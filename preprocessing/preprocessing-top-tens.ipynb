{
 "cells": [
  {
   "metadata": {
    "ExecuteTime": {
     "end_time": "2024-12-16T19:41:11.983224Z",
     "start_time": "2024-12-16T19:41:11.708304Z"
    }
   },
   "cell_type": "code",
   "source": "import pandas as pd",
   "id": "87d93d93a1353b10",
   "outputs": [],
   "execution_count": 1
  },
  {
   "metadata": {
    "collapsed": true,
    "ExecuteTime": {
     "end_time": "2024-12-16T19:53:29.951965Z",
     "start_time": "2024-12-16T19:53:29.896980Z"
    }
   },
   "cell_type": "code",
   "source": [
    "# Top-Ten warmest countries\n",
    "df_weather = pd.read_parquet('./../data/weather_compressed_new.parquet')\n",
    "df_countries_extended = pd.read_csv('./../data/countries_extended.csv')[['country', 'continent']]\n",
    "df_countries_weather_extended = pd.merge(df_countries_extended, df_weather, on='country')\n",
    "dates = pd.read_csv('./../data/dates.csv')['date'].unique()\n",
    "dates"
   ],
   "id": "initial_id",
   "outputs": [
    {
     "data": {
      "text/plain": [
       "array(['1960-01-01', '1960-01-15', '1960-01-29', ..., '2023-08-04',\n",
       "       '2023-08-18', '2023-09-01'], dtype=object)"
      ]
     },
     "execution_count": 7,
     "metadata": {},
     "output_type": "execute_result"
    }
   ],
   "execution_count": 7
  },
  {
   "metadata": {},
   "cell_type": "code",
   "outputs": [],
   "execution_count": null,
   "source": [
    "# Top 5 coldest\n",
    "scores = {}\n",
    "df_countries_weather_extended['min_temp_c'] = df_countries_weather_extended['min_temp_c'].fillna(df_countries_weather_extended['avg_temp_c'])\n",
    "df_countries_weather_extended = df_countries_weather_extended.dropna(subset=['min_temp_c'])\n",
    "\n",
    "for date in dates:\n",
    "    df_country_max_temp_c = df_countries_weather_extended[df_countries_weather_extended['date'] == str(date)][['country', 'min_temp_c']]\n",
    "    for (i, (country, min_temp_c)) in df_country_max_temp_c.iterrows():\n",
    "        scores[country] = scores.get(country, 0.0) + min_temp_c\n",
    "\n",
    "df_score_smallest = pd.DataFrame.from_dict(data=scores, orient='index', columns=['score'])\n",
    "countries_smallest = df_score_smallest.nsmallest(5, 'score').index\n",
    "\n",
    "df_result_smallest = pd.DataFrame([], columns=df_countries_weather_extended[['date', 'country', 'min_temp_c']].columns)\n",
    "\n",
    "for country in countries_smallest:\n",
    "    for date in dates:\n",
    "        temp = df_countries_weather_extended[(df_countries_weather_extended['date'] == str(date)) & (df_countries_weather_extended['country'] == country)][['date', 'country', 'min_temp_c']]\n",
    "        if not temp.empty:\n",
    "            df_result_smallest.loc[len(df_result_smallest)] = temp.iloc[0][['date', 'country', 'min_temp_c']]\n"
   ],
   "id": "95a4c542adad70"
  },
  {
   "metadata": {
    "ExecuteTime": {
     "end_time": "2024-12-16T19:52:42.239678Z",
     "start_time": "2024-12-16T19:52:42.236875Z"
    }
   },
   "cell_type": "code",
   "source": [
    "# Top 5 hottest\n",
    "scores = {}\n",
    "df_countries_weather_extended['max_temp_c'] = df_countries_weather_extended['max_temp_c'].fillna(df_countries_weather_extended['avg_temp_c'])\n",
    "df_countries_weather_extended = df_countries_weather_extended.dropna(subset=['max_temp_c'])\n",
    "\n",
    "for date in dates:\n",
    "    df_country_max_temp_c = df_countries_weather_extended[df_countries_weather_extended['date'] == str(date)][['country', 'max_temp_c']]\n",
    "    for (i, (country, max_temp_c)) in df_country_max_temp_c.iterrows():\n",
    "        scores[country] = scores.get(country, 0.0) + max_temp_c\n",
    "\n",
    "df_score_hottest = pd.DataFrame.from_dict(data=scores, orient='index', columns=['score'])\n",
    "countries_hottest = df_score_hottest.nlargest(5, 'score').index\n",
    "\n",
    "df_result_hottest = pd.DataFrame([], columns=df_countries_weather_extended[['date', 'country', 'max_temp_c']].columns)\n",
    "\n",
    "for country in countries_hottest:\n",
    "    for date in dates:\n",
    "        temp = df_countries_weather_extended[(df_countries_weather_extended['date'] == str(date)) & (df_countries_weather_extended['country'] == country)][['date', 'country', 'max_temp_c']]\n",
    "        if not temp.empty:\n",
    "            df_result_hottest.loc[len(df_result_hottest)] = temp.iloc[0][['date', 'country', 'max_temp_c']]\n"
   ],
   "id": "2306521ceeca0d47",
   "outputs": [],
   "execution_count": 4
  },
  {
   "metadata": {},
   "cell_type": "code",
   "outputs": [],
   "execution_count": null,
   "source": [
    "df_result_hottest.to_csv('./data/country_overall/top_5_warmest_countries.csv')\n",
    "df_result_smallest.to_csv('./data/country_overall/top_5_coldest_countries.csv')"
   ],
   "id": "ba3ae990b567bd8"
  }
 ],
 "metadata": {
  "kernelspec": {
   "display_name": "Python 3",
   "language": "python",
   "name": "python3"
  },
  "language_info": {
   "codemirror_mode": {
    "name": "ipython",
    "version": 2
   },
   "file_extension": ".py",
   "mimetype": "text/x-python",
   "name": "python",
   "nbconvert_exporter": "python",
   "pygments_lexer": "ipython2",
   "version": "2.7.6"
  }
 },
 "nbformat": 4,
 "nbformat_minor": 5
}
